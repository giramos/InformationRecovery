{
  "nbformat": 4,
  "nbformat_minor": 0,
  "metadata": {
    "colab": {
      "private_outputs": true,
      "provenance": [],
      "include_colab_link": true
    },
    "kernelspec": {
      "name": "python3",
      "display_name": "Python 3"
    },
    "language_info": {
      "name": "python"
    }
  },
  "cells": [
    {
      "cell_type": "markdown",
      "metadata": {
        "id": "view-in-github",
        "colab_type": "text"
      },
      "source": [
        "<a href=\"https://colab.research.google.com/github/giramos/InformationRecovery/blob/master/Notebook_Sesion01.ipynb\" target=\"_parent\"><img src=\"https://colab.research.google.com/assets/colab-badge.svg\" alt=\"Open In Colab\"/></a>"
      ]
    },
    {
      "cell_type": "markdown",
      "source": [
        "#1 Introducción a la búsqueda léxica\n",
        "\n",
        "En este notebook, implementaremos un sistema de búsqueda basado en BM25 para un dataset de pizzas.\n",
        "\n",
        "Usaremos la librería bm25s para crear un índice de búsqueda eficiente.\n",
        "\n",
        "BM25S es una implementación rápida y ligera de Python de BM25, construida sobre NumPy y SciPy. Nos\n",
        "permite experimentar con la búsqueda léxica sin la configuración compleja que se requiere cuando usamos\n",
        "Elasticsearch.\n",
        "\n",
        "Puedes obtener más información sobre BM25S en https://bm25s.github.io/."
      ],
      "metadata": {
        "id": "NwEq6DhlyIcD"
      }
    },
    {
      "cell_type": "markdown",
      "source": [
        "# 2 Indexar con BM25S\n",
        "\n",
        "\n",
        "En este ejemplo, cargaremos una colección de documentos y crearemos un índice utilizando bm25s. Más\n",
        "adelante, veremos cómo cargar el índice y realizar búsquedas en él."
      ],
      "metadata": {
        "id": "hRro0atT3FuU"
      }
    },
    {
      "cell_type": "markdown",
      "source": [
        "##2.1 Configuración\n",
        "\n",
        "\n",
        "En primer lugar, vamos a instalar los paquetes necesarios de Python:"
      ],
      "metadata": {
        "id": "D_KpJ0rXzUFW"
      }
    },
    {
      "cell_type": "code",
      "source": [
        "!pip install bm25s[full]"
      ],
      "metadata": {
        "collapsed": true,
        "id": "jTfpZxv9zXZq"
      },
      "execution_count": null,
      "outputs": []
    },
    {
      "cell_type": "markdown",
      "source": [
        "Ahora, vamos a importar las librerías que necesitamos:\n",
        "\n",
        "\n",
        "\n",
        "\n"
      ],
      "metadata": {
        "id": "MUM1JwOAzjJn"
      }
    },
    {
      "cell_type": "code",
      "source": [
        "import bm25s # Para crear índices y buscar documentos con BM25\n",
        "import Stemmer # Para estematizar términos\n",
        "import json # Para cargar el corpus que nos viene en formato JSON"
      ],
      "metadata": {
        "id": "mx1etugCzlAJ"
      },
      "execution_count": null,
      "outputs": []
    },
    {
      "cell_type": "markdown",
      "source": [
        "## 2.2 Preparar el corpus\n",
        "\n",
        "\n",
        "Descargamos el fichero pizzas.json de\n"
      ],
      "metadata": {
        "id": "Ea4A6hsF0UfF"
      }
    },
    {
      "cell_type": "code",
      "source": [
        "!gdown 1_FRU7C04R3EczS3RrXuqnywd5uNJgtmo"
      ],
      "metadata": {
        "id": "Tf8x5U680X6B"
      },
      "execution_count": null,
      "outputs": []
    },
    {
      "cell_type": "markdown",
      "source": [
        "Ahora, lo parseamos:"
      ],
      "metadata": {
        "id": "l4vs7fWmJuvX"
      }
    },
    {
      "cell_type": "code",
      "source": [
        "with open(\"pizzas.json\", \"r\", encoding=\"utf-8\") as f:\n",
        "    corpus_content = f.read()\n",
        "    corpus_content = json.loads(corpus_content)"
      ],
      "metadata": {
        "id": "GtuVcYao0l-U"
      },
      "execution_count": null,
      "outputs": []
    },
    {
      "cell_type": "markdown",
      "source": [
        "Necesitamos preparar nuestro corpus para BM25S en dos formatos:\n",
        "1. Una versión literal que mantenga la estructura original de los \"documentos\".\n",
        "2. Una versión de texto plano para tokenización e indexación."
      ],
      "metadata": {
        "id": "87SLDAiC0uFa"
      }
    },
    {
      "cell_type": "code",
      "source": [
        "corpus_verbatim = list()\n",
        "corpus_plaintext = list()\n",
        "for entry in corpus_content:\n",
        "    # Nota: nuestros “documentos” de pizza solo tienen 'id'\n",
        "    # (el nombre de la pizza) y los “ingredientes”,\n",
        "    # pero BM25S espera 'id', 'title', y 'text'\n",
        "    document = {\"id\": entry[\"id\"], \"title\": entry[\"id\"].lower(), \"text\": entry[\"ingredients\"].lower()}\n",
        "    corpus_verbatim.append(document)\n",
        "    corpus_plaintext.append(entry[\"ingredients\"].lower())"
      ],
      "metadata": {
        "id": "fQdlGvHj03zy"
      },
      "execution_count": null,
      "outputs": []
    },
    {
      "cell_type": "markdown",
      "source": [
        "Vamos a procesar el texto. Para ello, aplicamos un stemmer para el idioma inglés y eliminamos palabras\n",
        "vacías al realizar la tokenización:"
      ],
      "metadata": {
        "id": "PTXE8Muj1O4Z"
      }
    },
    {
      "cell_type": "code",
      "source": [
        "stemmer = Stemmer.Stemmer(\"english\")\n",
        "\n",
        "corpus_tokenized = bm25s.tokenize(corpus_plaintext, stopwords=\"en\", stemmer=stemmer, show_progress=True)"
      ],
      "metadata": {
        "id": "OGGXn4zB1VIY"
      },
      "execution_count": null,
      "outputs": []
    },
    {
      "cell_type": "markdown",
      "source": [
        "##2.3 Crear el retriever BM25S e indexar la colección\n",
        "\n",
        "\n",
        "Ahora crearemos nuestro retriever basado en BM25 e indexaremos el corpus tokenizado.\n",
        "\n",
        "Hay que tener en cuenta que tanto la función de ranking BM25 como la función para obtener el IDF tienen\n",
        "diferentes \"sabores\" que se pueden combinar. Las opciones disponibles son 'robertson', 'atire', 'bm25l', 'bm25+'\n",
        "y 'lucene' (la implementación utilizada por Elasticsearch y OpenSearch).\n"
      ],
      "metadata": {
        "id": "bh7GxSXc1icR"
      }
    },
    {
      "cell_type": "code",
      "source": [
        "# Escogemos lucene, pero puedes cambiarla y probar otras opciones\n",
        "bm25_flavor = \"lucene\"\n",
        "idf_flavor = \"lucene\"\n",
        "\n",
        "retriever = bm25s.BM25(corpus=corpus_verbatim, method=bm25_flavor, idf_method=idf_flavor)\n",
        "retriever.index(corpus_tokenized, show_progress=True)"
      ],
      "metadata": {
        "id": "-QiJIg1l1m-D"
      },
      "execution_count": null,
      "outputs": []
    },
    {
      "cell_type": "markdown",
      "source": [
        "Si utilizas BM25S “de verdad” en un script, deberías guardar tu índice para reutilizarlo. Obtendrás una carpeta\n",
        "con el índice:"
      ],
      "metadata": {
        "id": "OFteE9Gs2Q1K"
      }
    },
    {
      "cell_type": "code",
      "source": [
        "retriever.save(\"pizzas\", corpus=corpus_verbatim)"
      ],
      "metadata": {
        "id": "2jPMIj-_2ZLa"
      },
      "execution_count": null,
      "outputs": []
    },
    {
      "cell_type": "markdown",
      "source": [
        "#3 Buscar con BM25S\n",
        "\n",
        "\n",
        "Aunque estamos demostrando el uso de BM25S en el mismo notebook, la indexación y la búsqueda son\n",
        "tareas separadas. En esta sección, mostraremos cómo enviar consultas a un índice BM25S."
      ],
      "metadata": {
        "id": "NoowMlmn202m"
      }
    },
    {
      "cell_type": "markdown",
      "source": [
        "##3.1 Configuración\n",
        "\n",
        "En primer lugar, instalamos los paquetes necesarios (sí, ya se instalaron para este notebook):\n"
      ],
      "metadata": {
        "id": "dHKQqcEe3LZ_"
      }
    },
    {
      "cell_type": "code",
      "source": [
        "!pip install bm25s[full]"
      ],
      "metadata": {
        "id": "6QLnnN3r3Zt1"
      },
      "execution_count": null,
      "outputs": []
    },
    {
      "cell_type": "markdown",
      "source": [
        "Ahora, importamos las librerías necesarias:\n"
      ],
      "metadata": {
        "id": "AaMF9eNn3fMe"
      }
    },
    {
      "cell_type": "code",
      "source": [
        "import bm25s # Para crear índices y buscar documentos con BM25\n",
        "import Stemmer # Para estematizar términos\n",
        "\n",
        "# Ten en cuenta que no necesitamos importar json, los documentos se\n",
        "# almacenan en el índice, por lo que no necesitamos acceder al conjunto de\n",
        "# datos original\n"
      ],
      "metadata": {
        "id": "bKg5BeOa3jHi"
      },
      "execution_count": null,
      "outputs": []
    },
    {
      "cell_type": "markdown",
      "source": [
        "Necesitamos crear una instancia de un stemmer para aplicarlo a las consultas:\n"
      ],
      "metadata": {
        "id": "bzp-StvB4JFy"
      }
    },
    {
      "cell_type": "code",
      "source": [
        "stemmer = Stemmer.Stemmer(\"english\")"
      ],
      "metadata": {
        "id": "X5K8maqr4Hjq"
      },
      "execution_count": null,
      "outputs": []
    },
    {
      "cell_type": "markdown",
      "source": [
        "##3.2 Cargar el retriever BM25S\n",
        "\n",
        "\n",
        "\n",
        "\n",
        "\n",
        "Cargamos el índice y el corpus/colección/dataset original; se almacenará en retriever.corpus.\n"
      ],
      "metadata": {
        "id": "yslMqnpD383f"
      }
    },
    {
      "cell_type": "code",
      "source": [
        "retriever = bm25s.BM25.load(\"pizzas\", load_corpus=True)"
      ],
      "metadata": {
        "id": "QPIT6v4y4Q8s"
      },
      "execution_count": null,
      "outputs": []
    },
    {
      "cell_type": "markdown",
      "source": [
        "##3.3 Enviar consultas\n",
        "\n",
        "En este momento tenemos solo una consulta, pero puedes agregar más..."
      ],
      "metadata": {
        "id": "vjkxtfc34TaC"
      }
    },
    {
      "cell_type": "code",
      "source": [
        "queries = [{\"id\":\"craving\", \"ingredients\": \"tomato oregano olives\"}]"
      ],
      "metadata": {
        "id": "8L3wOkOn4ag6"
      },
      "execution_count": null,
      "outputs": []
    },
    {
      "cell_type": "markdown",
      "source": [
        "Iteramos sobre cada consulta para enviarla al retriever y obtener resultados.\n",
        "\n",
        "\n",
        "```\n",
        "Query craving: tomato oregano olives...\n",
        "\n",
        "Results:\n",
        "\t0\t0.5406627058982849\tcapricciosa\tartichokes mozzarella mushrooms oil olives tomato...\n",
        "\t1\t0.2751682996749878\tmarinara\tgarlic oil oregano tomato...\n",
        "\t2\t0.25040316581726074\tromana\tanchovies mozzarella oil oregano tomato...\n",
        "\t3\t0.25040316581726074\tviennese\tmozzarella oil oregano sausage tomato...\n",
        "\t4\t0.03480454906821251\tquattro formaggi\tfontina gorgonzola mozzarella tomato stracchino...\n",
        "```"
      ],
      "metadata": {
        "id": "wBde2HpX4fRC"
      }
    },
    {
      "cell_type": "code",
      "source": [
        "for query in queries:\n",
        "    # Para evaluar después el rendimiento, es útil conservar el id de la\n",
        "    # consulta, de forma que comparemos los resultados obtenidos con el\n",
        "    # retriever con los resultados esperados, segúnlo determinado por\n",
        "    # los juicios de relevancia\n",
        "    #\n",
        "    query_id = query[\"id\"]\n",
        "\n",
        "    # Recuerda que el contenido está en el campo 'ingredients' ...\n",
        "    #\n",
        "\n",
        "    query_string = query[\"ingredients\"].lower()\n",
        "\n",
        "    # Imprimimos la consulta (solo para saber que hemos “pedido” al sistema\n",
        "    # de recuperación)\n",
        "    #\n",
        "    print(f\"---\\nQuery {query_id}: {query_string[0:80]}...\")\n",
        "\n",
        "    # Tokenizamos la consulta. ¡Atención! Debemos tokenizar la consulta\n",
        "    # con la misma configuración que usamos al indexar el corpus. En este\n",
        "    # caso, eliminando las palabras vacías del inglés y aplicando el\n",
        "    # stemmer de inglés\n",
        "\n",
        "    query_tokenized = bm25s.tokenize(query_string, stopwords=\"en\", stemmer=stemmer, show_progress=False)\n",
        "\n",
        "    # Retornamos los k resultados más “top” como una tupla con nombre.\n",
        "    # Por favor, lee la documentación de BM25S para otras alternativas.\n",
        "    #\n",
        "    # ¡Atención! Si pides más documentos que los que hay en la colección,\n",
        "    # tendrás una excepción.\n",
        "    #\n",
        "\n",
        "    results = retriever.retrieve(query_tokenized, corpus=retriever.corpus, k=5, return_as=\"tuple\", show_progress=False)\n",
        "\n",
        "    # Los documentos y sus puntuaciones se guardan en dos campos\n",
        "    # diferentes de la tupla.\n",
        "    #\n",
        "    returned_documents = results.documents[0]\n",
        "    relevance_scores = results.scores[0]\n",
        "\n",
        "    # Imprimimos los resultados\n",
        "    #\n",
        "    print(\"\\nResults:\")\n",
        "\n",
        "    for i in range(len(returned_documents)):\n",
        "        print(f\"\\t{i}\\t{relevance_scores[i]}\\t{returned_documents[i]['title']}\\t{returned_documents[i]['text'][0:80]}...\")"
      ],
      "metadata": {
        "id": "xhp-BIGz4hfY"
      },
      "execution_count": null,
      "outputs": []
    },
    {
      "cell_type": "markdown",
      "source": [
        "#4 Conclusión\n",
        "\n",
        "\n",
        "En este notebook, hemos explorado la aplicación de la librería bm25s, un motor de búsqueda léxica,\n",
        "utilizando un dataset de juguete. Hemos recorrido todo el proceso, desde la configuración del entorno y la\n",
        "preparación del corpus hasta la creación de un índice y la realización de búsquedas.\n",
        "\n",
        "En el siguiente notebook, aplicaremos el mismo enfoque a una colección de evaluación estándar, LISA, y\n",
        "examinaremos cómo evaluar el rendimiento utilizando juicios de relevancia."
      ],
      "metadata": {
        "id": "BhSnflhlq8Oq"
      }
    }
  ]
}